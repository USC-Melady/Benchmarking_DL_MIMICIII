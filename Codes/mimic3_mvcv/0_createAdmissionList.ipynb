{
 "cells": [
  {
   "cell_type": "markdown",
   "metadata": {},
   "source": [
    "# Create Admission List\n",
    "\n",
    "This script is used for creating a list of admission ids. We only keep admissions that are the first admissions of their patients."
   ]
  },
  {
   "cell_type": "code",
   "execution_count": 1,
   "metadata": {},
   "outputs": [],
   "source": [
    "from __future__ import print_function\n",
    "\n",
    "import psycopg2\n",
    "import datetime\n",
    "import sys\n",
    "from operator import itemgetter, attrgetter, methodcaller\n",
    "import numpy as np\n",
    "import itertools\n",
    "import os.path\n",
    "import matplotlib.pyplot as plt\n",
    "import math\n",
    "\n",
    "from utils import getConnection\n",
    "\n",
    "%matplotlib inline"
   ]
  },
  {
   "cell_type": "code",
   "execution_count": 2,
   "metadata": {},
   "outputs": [
    {
     "name": "stdout",
     "output_type": "stream",
     "text": [
      "Connected to Postgre Database!\n"
     ]
    }
   ],
   "source": [
    "try:\n",
    "    conn = getConnection()\n",
    "    print('Connected to Postgre Database!')\n",
    "except:\n",
    "    print('Fail to connect!')"
   ]
  },
  {
   "cell_type": "markdown",
   "metadata": {},
   "source": [
    "## Select all admissions\n",
    "\n",
    "We collect all admission_ids from TABLE ICUSTAYS and TABLE TRANSFERS"
   ]
  },
  {
   "cell_type": "code",
   "execution_count": 3,
   "metadata": {},
   "outputs": [],
   "source": [
    "# Select from icustay and transfer table\n",
    "cur = conn.cursor()\n",
    "cur.execute('create table if not exists admission_ids as (select distinct hadm_id from mimiciii.icustays union select distinct hadm_id from mimiciii.transfers)')\n",
    "conn.commit()\n",
    "\n",
    "cur = conn.cursor()\n",
    "cur.execute('ALTER TABLE admission_ids ADD CONSTRAINT hadm_id PRIMARY KEY (hadm_id)')\n",
    "conn.commit()\n",
    "\n",
    "cur = conn.cursor()\n",
    "cur.execute('select * from admission_ids')\n",
    "res = cur.fetchall()\n",
    "\n",
    "admission_ids = [r[0] for r in res]\n",
    "admission_ids_txt = ','.join(map(str, admission_ids))"
   ]
  },
  {
   "cell_type": "code",
   "execution_count": 4,
   "metadata": {},
   "outputs": [
    {
     "name": "stdout",
     "output_type": "stream",
     "text": [
      "len(admission_ids) =  58976\n"
     ]
    }
   ],
   "source": [
    "# number of admission id\n",
    "print('len(admission_ids) = ', len(admission_ids))"
   ]
  },
  {
   "cell_type": "code",
   "execution_count": 5,
   "metadata": {},
   "outputs": [],
   "source": [
    "if not os.path.exists('./res'):\n",
    "    os.makedirs('./res')\n",
    "# save to admission_ids.npy\n",
    "tosave = {'admission_ids':admission_ids, 'admission_ids_txt': admission_ids_txt}\n",
    "np.save('res/admission_ids.npy',tosave)"
   ]
  },
  {
   "cell_type": "markdown",
   "metadata": {},
   "source": [
    "Make sure that there is no duplication in admission_ids."
   ]
  },
  {
   "cell_type": "code",
   "execution_count": 6,
   "metadata": {},
   "outputs": [
    {
     "name": "stdout",
     "output_type": "stream",
     "text": [
      "58976 58976\n"
     ]
    }
   ],
   "source": [
    "print(len(admission_ids), len(set(admission_ids)))"
   ]
  },
  {
   "cell_type": "markdown",
   "metadata": {},
   "source": [
    "## Remove non-first admissions\n",
    "\n",
    "We remove all admissions which are not the first admissions of some patients in order to prevent possible information leakage, which will happen when multiple admissions of the same patient occur in training set and test set simultaneously."
   ]
  },
  {
   "cell_type": "code",
   "execution_count": 7,
   "metadata": {},
   "outputs": [
    {
     "name": "stdout",
     "output_type": "stream",
     "text": [
      "46520\n"
     ]
    }
   ],
   "source": [
    "# get the list of admission ids which is the first admission of the subject\n",
    "conn = getConnection()\n",
    "cur = conn.cursor()\n",
    "\n",
    "# fixed by https://github.com/USC-Melady/Benchmarking_DL_MIMICIII/issues/12#issuecomment-680422181 to ensure that \"distinct\" retrives the first admission\n",
    "#     cur.execute('select hadm_id from admission_ids where hadm_id in (select distinct on (subject_id) hadm_id from (select * from mimiciii.admissions order by admittime) tt)')\n",
    "cur.execute('select hadm_id from admission_ids where hadm_id in (select distinct on (subject_id) hadm_id from mimiciii.admissions order by subject_id,admittime)')\n",
    "\n",
    "res = cur.fetchall()\n",
    "\n",
    "admission_first_ids = [r[0] for r in res]\n",
    "admission_first_ids_txt = ','.join(list(map(str, admission_first_ids)))\n",
    "tosave = {'admission_ids': admission_first_ids, 'admission_ids_txt': admission_first_ids_txt}\n",
    "np.save('res/admission_first_ids.npy', tosave)\n",
    "print(len(admission_first_ids))"
   ]
  }
 ],
 "metadata": {
  "kernelspec": {
   "display_name": "Python 3",
   "language": "python",
   "name": "python3"
  },
  "language_info": {
   "codemirror_mode": {
    "name": "ipython",
    "version": 3
   },
   "file_extension": ".py",
   "mimetype": "text/x-python",
   "name": "python",
   "nbconvert_exporter": "python",
   "pygments_lexer": "ipython3",
   "version": "3.6.10"
  }
 },
 "nbformat": 4,
 "nbformat_minor": 1
}
