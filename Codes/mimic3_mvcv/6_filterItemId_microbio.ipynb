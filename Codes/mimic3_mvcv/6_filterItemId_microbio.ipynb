{
 "cells": [
  {
   "cell_type": "markdown",
   "metadata": {},
   "source": [
    "# Filter Itemid Microbio\n",
    "\n",
    "This script is used for filtering itemids from TABLE MICROBIOLOGYEVENTS.\n",
    "\n",
    "1. We only need to keep all itemids from MICROBIOLOGYEVENTS!\n",
    "2. No need for unit conversion!\n",
    "\n",
    "## Output\n",
    "\n",
    "1. itemid of observations for microbiologyevents."
   ]
  },
  {
   "cell_type": "code",
   "execution_count": 1,
   "metadata": {},
   "outputs": [],
   "source": [
    "from __future__ import print_function\n",
    "\n",
    "import psycopg2\n",
    "import datetime\n",
    "import sys\n",
    "from operator import itemgetter, attrgetter, methodcaller\n",
    "import numpy as np\n",
    "import itertools\n",
    "import os.path\n",
    "import matplotlib.pyplot as plt\n",
    "import math\n",
    "from multiprocessing import Pool, cpu_count\n",
    "\n",
    "from utils import getConnection\n",
    "\n",
    "%matplotlib inline"
   ]
  },
  {
   "cell_type": "code",
   "execution_count": 2,
   "metadata": {},
   "outputs": [],
   "source": [
    "conn = getConnection()\n",
    "    \n",
    "_adm = np.load('res/admission_ids.npy', allow_pickle=True).tolist()\n",
    "admission_ids = _adm['admission_ids']\n",
    "admission_ids_txt = _adm['admission_ids_txt']\n",
    "\n",
    "db = np.load('res/itemids.npy', allow_pickle=True).tolist()\n",
    "input_itemid = db['input']\n",
    "output_itemid = db['output']\n",
    "chart_itemid = db['chart']\n",
    "lab_itemid = db['lab']\n",
    "microbio_itemid = db['microbio']\n",
    "prescript_itemid = db['prescript']"
   ]
  },
  {
   "cell_type": "code",
   "execution_count": 3,
   "metadata": {},
   "outputs": [
    {
     "name": "stdout",
     "output_type": "stream",
     "text": [
      "saved!\n"
     ]
    }
   ],
   "source": [
    "valid_microbio = microbio_itemid\n",
    "np.save('res/filtered_microbio.npy',{'id':valid_microbio,'unit':None})\n",
    "print('saved!')"
   ]
  }
 ],
 "metadata": {
  "kernelspec": {
   "display_name": "Python 3",
   "language": "python",
   "name": "python3"
  },
  "language_info": {
   "codemirror_mode": {
    "name": "ipython",
    "version": 3
   },
   "file_extension": ".py",
   "mimetype": "text/x-python",
   "name": "python",
   "nbconvert_exporter": "python",
   "pygments_lexer": "ipython3",
   "version": "3.6.10"
  }
 },
 "nbformat": 4,
 "nbformat_minor": 1
}
